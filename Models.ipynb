{
 "cells": [
  {
   "cell_type": "markdown",
<<<<<<< Updated upstream
   "id": "c2b0cff3",
=======
   "id": "f73c54a5",
>>>>>>> Stashed changes
   "metadata": {},
   "source": [
    "## Naive Bayes"
   ]
  },
  {
   "cell_type": "code",
   "execution_count": 5,
<<<<<<< Updated upstream
   "id": "31cdb025",
=======
   "id": "56ffed6d",
>>>>>>> Stashed changes
   "metadata": {},
   "outputs": [],
   "source": [
    "import numpy as np\n",
    "import pandas as pd\n",
    "from sklearn.model_selection import train_test_split"
   ]
  },
  {
   "cell_type": "markdown",
<<<<<<< Updated upstream
   "id": "5f4af0a7",
=======
   "id": "9eb6d477",
>>>>>>> Stashed changes
   "metadata": {},
   "source": [
    "### Raw data"
   ]
  },
  {
   "cell_type": "code",
<<<<<<< Updated upstream
   "execution_count": 17,
   "id": "20fb276f",
=======
   "execution_count": 25,
   "id": "05f69a15",
>>>>>>> Stashed changes
   "metadata": {},
   "outputs": [],
   "source": [
    "df = pd.read_csv('Data/Dropout_Academic_Success.csv', delimiter=',')\n",
    "feature_names = df.columns.tolist()\n",
    "target_name = 'Target'\n",
    "feature_names.remove(target_name)\n",
    "\n",
    "X = df[feature_names]\n",
    "Y = df[target_name]\n",
    "\n",
    "# Split the original dataset into training and testing sets (70:30 split)\n",
    "X_train, X_test, Y_train, Y_test = train_test_split(X, Y, test_size=0.3, random_state=42)\n",
    "\n",
<<<<<<< Updated upstream
    "# Split the testing set into validation and testing sets (2:1 split)\n",
    "X_val, X_test, Y_val, Y_test = train_test_split(X_test, Y_test, test_size=0.33, random_state=42)"
=======
    "# Split the testing set into testing and validation sets (2:1 split)\n",
    "X_test, X_val, Y_test, Y_val = train_test_split(X_test, Y_test, test_size=0.33, random_state=42)"
>>>>>>> Stashed changes
   ]
  },
  {
   "cell_type": "code",
<<<<<<< Updated upstream
   "execution_count": 18,
   "id": "5a548694",
=======
   "execution_count": 49,
   "id": "d7b8f91f",
>>>>>>> Stashed changes
   "metadata": {},
   "outputs": [],
   "source": [
    "from sklearn.naive_bayes import GaussianNB\n",
    "\n",
<<<<<<< Updated upstream
    "nb = GaussianNB()"
=======
    "nb = GaussianNB()\n",
    "nb.fit(X_train, Y_train)\n",
    "nb_predictions = nb.predict(X_test)"
>>>>>>> Stashed changes
   ]
  },
  {
   "cell_type": "code",
<<<<<<< Updated upstream
   "execution_count": 19,
   "id": "7ff8958c",
   "metadata": {},
   "outputs": [
    {
     "data": {
      "text/plain": [
       "GaussianNB()"
      ]
     },
     "execution_count": 19,
     "metadata": {},
     "output_type": "execute_result"
    }
   ],
   "source": [
    "nb.fit(X_train, Y_train)"
   ]
  },
  {
   "cell_type": "code",
   "execution_count": 20,
   "id": "17db19cf",
   "metadata": {},
   "outputs": [],
   "source": [
    "nb_predictions = nb.predict(X_test)\n",
    "#print(\"Naive Bayes predictions: \", nb_predictions)"
   ]
  },
  {
   "cell_type": "code",
   "execution_count": 21,
   "id": "30653c3f",
=======
   "execution_count": 51,
   "id": "c7b29681",
>>>>>>> Stashed changes
   "metadata": {},
   "outputs": [
    {
     "name": "stdout",
     "output_type": "stream",
     "text": [
<<<<<<< Updated upstream
      "Naive Bayes score:  0.7107061503416856\n"
=======
      "Accuracy score:  0.69\n",
      "Precision score:  [0.79 0.32 0.71]\n",
      "Recall score:  [0.69 0.23 0.85]\n",
      "F1 score:  [0.74 0.27 0.78]\n"
>>>>>>> Stashed changes
     ]
    }
   ],
   "source": [
<<<<<<< Updated upstream
    "print(\"Naive Bayes score: \", nb.score(X_test, Y_test))"
   ]
  },
  {
   "cell_type": "code",
   "execution_count": 22,
   "id": "8f46b41d",
   "metadata": {},
   "outputs": [
    {
     "name": "stdout",
     "output_type": "stream",
     "text": [
      "Accuracy score:  0.7107061503416856\n"
     ]
    }
   ],
   "source": [
    "from sklearn.metrics import accuracy_score\n",
    "\n",
    "ac = accuracy_score(Y_test, nb_predictions)\n",
    "print(\"Accuracy score: \", ac)"
   ]
  },
  {
   "cell_type": "code",
   "execution_count": 23,
   "id": "8527f4a4",
   "metadata": {},
   "outputs": [
    {
     "name": "stdout",
     "output_type": "stream",
     "text": [
      "F1 score:  [0.74 0.42 0.79]\n"
     ]
    }
   ],
   "source": [
    "from sklearn.metrics import f1_score\n",
=======
    "from sklearn.metrics import f1_score, recall_score, precision_score, accuracy_score\n",
    "\n",
    "ac = accuracy_score(Y_test, nb_predictions)\n",
    "print(\"Accuracy score: \", ac.round(2))\n",
    "\n",
    "p_sc = precision_score(Y_test, nb_predictions, average=None)\n",
    "print(\"Precision score: \", p_sc.round(2))\n",
    "\n",
    "r_sc = recall_score(Y_test, nb_predictions, average=None)\n",
    "print(\"Recall score: \", r_sc.round(2))\n",
>>>>>>> Stashed changes
    "\n",
    "f1_sc = f1_score(Y_test, nb_predictions, average=None)\n",
    "print(\"F1 score: \", f1_sc.round(2))"
   ]
  },
  {
   "cell_type": "code",
<<<<<<< Updated upstream
   "execution_count": 14,
   "id": "59df01a9",
=======
   "execution_count": 39,
   "id": "66b877aa",
>>>>>>> Stashed changes
   "metadata": {},
   "outputs": [
    {
     "name": "stdout",
     "output_type": "stream",
     "text": [
      "              precision    recall  f1-score   support\n",
      "\n",
<<<<<<< Updated upstream
      "     Dropout       0.77      0.72      0.74       149\n",
      "    Enrolled       0.47      0.38      0.42        84\n",
      "    Graduate       0.75      0.83      0.79       206\n",
      "\n",
      "    accuracy                           0.71       439\n",
      "   macro avg       0.66      0.65      0.65       439\n",
      "weighted avg       0.70      0.71      0.70       439\n",
=======
      "     Dropout       0.79      0.69      0.74       292\n",
      "    Enrolled       0.32      0.23      0.27       161\n",
      "    Graduate       0.71      0.85      0.78       436\n",
      "\n",
      "    accuracy                           0.69       889\n",
      "   macro avg       0.61      0.59      0.59       889\n",
      "weighted avg       0.67      0.69      0.67       889\n",
>>>>>>> Stashed changes
      "\n"
     ]
    }
   ],
   "source": [
    "from sklearn.metrics import classification_report\n",
    "\n",
    "print(classification_report(Y_test, nb_predictions))"
   ]
  },
  {
   "cell_type": "code",
<<<<<<< Updated upstream
   "execution_count": null,
   "id": "62aac1ef",
=======
   "execution_count": 34,
   "id": "65a07703",
   "metadata": {},
   "outputs": [
    {
     "name": "stderr",
     "output_type": "stream",
     "text": [
      "C:\\Users\\hp\\anaconda3\\lib\\site-packages\\sklearn\\base.py:450: UserWarning: X does not have valid feature names, but GaussianNB was fitted with feature names\n",
      "  warnings.warn(\n"
     ]
    },
    {
     "data": {
      "image/png": "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\n",
      "text/plain": [
       "<Figure size 800x550 with 1 Axes>"
      ]
     },
     "metadata": {},
     "output_type": "display_data"
    }
   ],
   "source": [
    "from yellowbrick.classifier import ConfusionMatrix\n",
    "\n",
    "visualizer = ConfusionMatrix(nb)\n",
    "visualizer.fit(X_train, Y_train)  \n",
    "visualizer.score(X_test, Y_test)\n",
    "g = visualizer.poof()"
   ]
  },
  {
   "cell_type": "markdown",
   "id": "fd20878a",
   "metadata": {},
   "source": [
    "### Most relevant features"
   ]
  },
  {
   "cell_type": "code",
   "execution_count": 59,
   "id": "ed356bc1",
   "metadata": {},
   "outputs": [],
   "source": [
    "feature_names = ['Tuition fees up to date', 'Curricular units 1st sem (credited)', 'Curricular units 1st sem (enrolled)', \n",
    "                 'Curricular units 1st sem (evaluations)', 'Curricular units 1st sem (approved)', \n",
    "                 'Curricular units 1st sem (grade)', 'Curricular units 1st sem (without evaluations)', \n",
    "                 'Curricular units 2nd sem (credited)', 'Curricular units 2nd sem (enrolled)', \n",
    "                 'Curricular units 2nd sem (evaluations)', 'Curricular units 2nd sem (approved)', \n",
    "                 'Curricular units 2nd sem (grade)', 'Curricular units 2nd sem (without evaluations)', \n",
    "                 'Previous qualification', 'Previous qualification (grade)', 'Application mode', 'Application order', 'Course']\n",
    "X = df[feature_names]\n",
    "Y = df['Target']\n",
    "\n",
    "# Split the original dataset into training and testing sets (70:30 split)\n",
    "X_train, X_test, Y_train, Y_test = train_test_split(X, Y, test_size=0.3, random_state=42)\n",
    "\n",
    "# Split the testing set into testing and validation sets (2:1 split)\n",
    "X_test, X_val, Y_test, Y_val = train_test_split(X_test, Y_test, test_size=0.33, random_state=42)\n"
   ]
  },
  {
   "cell_type": "code",
   "execution_count": 60,
   "id": "60412526",
   "metadata": {},
   "outputs": [
    {
     "name": "stdout",
     "output_type": "stream",
     "text": [
      "Accuracy score:  0.7\n",
      "Precision score:  [0.82 0.39 0.74]\n",
      "Recall score:  [0.65 0.34 0.87]\n",
      "F1 score:  [0.73 0.36 0.8 ]\n"
     ]
    }
   ],
   "source": [
    "# Train model\n",
    "nb = GaussianNB()\n",
    "nb.fit(X_train, Y_train)\n",
    "nb_predictions = nb.predict(X_test)\n",
    "\n",
    "#Evaluate model\n",
    "ac = accuracy_score(Y_test, nb_predictions)\n",
    "print(\"Accuracy score: \", ac.round(2))\n",
    "\n",
    "p_sc = precision_score(Y_test, nb_predictions, average=None)\n",
    "print(\"Precision score: \", p_sc.round(2))\n",
    "\n",
    "r_sc = recall_score(Y_test, nb_predictions, average=None)\n",
    "print(\"Recall score: \", r_sc.round(2))\n",
    "\n",
    "f1_sc = f1_score(Y_test, nb_predictions, average=None)\n",
    "print(\"F1 score: \", f1_sc.round(2))"
   ]
  },
  {
   "cell_type": "code",
   "execution_count": 61,
   "id": "b79c3950",
   "metadata": {},
   "outputs": [
    {
     "name": "stderr",
     "output_type": "stream",
     "text": [
      "C:\\Users\\hp\\anaconda3\\lib\\site-packages\\sklearn\\base.py:450: UserWarning: X does not have valid feature names, but GaussianNB was fitted with feature names\n",
      "  warnings.warn(\n"
     ]
    },
    {
     "data": {
      "image/png": "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\n",
      "text/plain": [
       "<Figure size 800x550 with 1 Axes>"
      ]
     },
     "metadata": {},
     "output_type": "display_data"
    }
   ],
   "source": [
    "from yellowbrick.classifier import ConfusionMatrix\n",
    "\n",
    "visualizer = ConfusionMatrix(nb)\n",
    "visualizer.fit(X_train, Y_train)  \n",
    "visualizer.score(X_test, Y_test)\n",
    "g = visualizer.poof()"
   ]
  },
  {
   "cell_type": "code",
   "execution_count": null,
   "id": "1bfae9cf",
>>>>>>> Stashed changes
   "metadata": {},
   "outputs": [],
   "source": []
  }
 ],
 "metadata": {
  "kernelspec": {
   "display_name": "Python 3 (ipykernel)",
   "language": "python",
   "name": "python3"
  },
  "language_info": {
   "codemirror_mode": {
    "name": "ipython",
    "version": 3
   },
   "file_extension": ".py",
   "mimetype": "text/x-python",
   "name": "python",
   "nbconvert_exporter": "python",
   "pygments_lexer": "ipython3",
   "version": "3.9.13"
  }
 },
 "nbformat": 4,
 "nbformat_minor": 5
}
