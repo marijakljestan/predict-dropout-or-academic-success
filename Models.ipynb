{
 "cells": [
  {
   "cell_type": "markdown",
   "id": "c2b0cff3",
   "metadata": {},
   "source": [
    "## Naive Bayes"
   ]
  },
  {
   "cell_type": "code",
   "execution_count": 5,
   "id": "31cdb025",
   "metadata": {},
   "outputs": [],
   "source": [
    "import numpy as np\n",
    "import pandas as pd\n",
    "from sklearn.model_selection import train_test_split"
   ]
  },
  {
   "cell_type": "markdown",
   "id": "5f4af0a7",
   "metadata": {},
   "source": [
    "### Raw data"
   ]
  },
  {
   "cell_type": "code",
   "execution_count": 17,
   "id": "20fb276f",
   "metadata": {},
   "outputs": [],
   "source": [
    "df = pd.read_csv('Data/Dropout_Academic_Success.csv', delimiter=',')\n",
    "feature_names = df.columns.tolist()\n",
    "target_name = 'Target'\n",
    "feature_names.remove(target_name)\n",
    "\n",
    "X = df[feature_names]\n",
    "Y = df[target_name]\n",
    "\n",
    "# Split the original dataset into training and testing sets (70:30 split)\n",
    "X_train, X_test, Y_train, Y_test = train_test_split(X, Y, test_size=0.3, random_state=42)\n",
    "\n",
    "# Split the testing set into validation and testing sets (2:1 split)\n",
    "X_val, X_test, Y_val, Y_test = train_test_split(X_test, Y_test, test_size=0.33, random_state=42)"
   ]
  },
  {
   "cell_type": "code",
   "execution_count": 18,
   "id": "5a548694",
   "metadata": {},
   "outputs": [],
   "source": [
    "from sklearn.naive_bayes import GaussianNB\n",
    "\n",
    "nb = GaussianNB()"
   ]
  },
  {
   "cell_type": "code",
   "execution_count": 19,
   "id": "7ff8958c",
   "metadata": {},
   "outputs": [
    {
     "data": {
      "text/plain": [
       "GaussianNB()"
      ]
     },
     "execution_count": 19,
     "metadata": {},
     "output_type": "execute_result"
    }
   ],
   "source": [
    "nb.fit(X_train, Y_train)"
   ]
  },
  {
   "cell_type": "code",
   "execution_count": 20,
   "id": "17db19cf",
   "metadata": {},
   "outputs": [],
   "source": [
    "nb_predictions = nb.predict(X_test)\n",
    "#print(\"Naive Bayes predictions: \", nb_predictions)"
   ]
  },
  {
   "cell_type": "code",
   "execution_count": 21,
   "id": "30653c3f",
   "metadata": {},
   "outputs": [
    {
     "name": "stdout",
     "output_type": "stream",
     "text": [
      "Naive Bayes score:  0.7107061503416856\n"
     ]
    }
   ],
   "source": [
    "print(\"Naive Bayes score: \", nb.score(X_test, Y_test))"
   ]
  },
  {
   "cell_type": "code",
   "execution_count": 22,
   "id": "8f46b41d",
   "metadata": {},
   "outputs": [
    {
     "name": "stdout",
     "output_type": "stream",
     "text": [
      "Accuracy score:  0.7107061503416856\n"
     ]
    }
   ],
   "source": [
    "from sklearn.metrics import accuracy_score\n",
    "\n",
    "ac = accuracy_score(Y_test, nb_predictions)\n",
    "print(\"Accuracy score: \", ac)"
   ]
  },
  {
   "cell_type": "code",
   "execution_count": 23,
   "id": "8527f4a4",
   "metadata": {},
   "outputs": [
    {
     "name": "stdout",
     "output_type": "stream",
     "text": [
      "F1 score:  [0.74 0.42 0.79]\n"
     ]
    }
   ],
   "source": [
    "from sklearn.metrics import f1_score\n",
    "\n",
    "f1_sc = f1_score(Y_test, nb_predictions, average=None)\n",
    "print(\"F1 score: \", f1_sc.round(2))"
   ]
  },
  {
   "cell_type": "code",
   "execution_count": 14,
   "id": "59df01a9",
   "metadata": {},
   "outputs": [
    {
     "name": "stdout",
     "output_type": "stream",
     "text": [
      "              precision    recall  f1-score   support\n",
      "\n",
      "     Dropout       0.77      0.72      0.74       149\n",
      "    Enrolled       0.47      0.38      0.42        84\n",
      "    Graduate       0.75      0.83      0.79       206\n",
      "\n",
      "    accuracy                           0.71       439\n",
      "   macro avg       0.66      0.65      0.65       439\n",
      "weighted avg       0.70      0.71      0.70       439\n",
      "\n"
     ]
    }
   ],
   "source": [
    "from sklearn.metrics import classification_report\n",
    "\n",
    "print(classification_report(Y_test, nb_predictions))"
   ]
  },
  {
   "cell_type": "code",
   "execution_count": null,
   "id": "62aac1ef",
   "metadata": {},
   "outputs": [],
   "source": []
  }
 ],
 "metadata": {
  "kernelspec": {
   "display_name": "Python 3 (ipykernel)",
   "language": "python",
   "name": "python3"
  },
  "language_info": {
   "codemirror_mode": {
    "name": "ipython",
    "version": 3
   },
   "file_extension": ".py",
   "mimetype": "text/x-python",
   "name": "python",
   "nbconvert_exporter": "python",
   "pygments_lexer": "ipython3",
   "version": "3.9.13"
  }
 },
 "nbformat": 4,
 "nbformat_minor": 5
}
